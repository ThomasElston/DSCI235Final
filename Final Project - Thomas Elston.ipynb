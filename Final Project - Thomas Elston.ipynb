{
 "cells": [
  {
   "cell_type": "markdown",
   "id": "9e4dd5cd",
   "metadata": {},
   "source": [
    "# DSCI-235 Final Project"
   ]
  },
  {
   "cell_type": "markdown",
   "id": "64e0232e",
   "metadata": {},
   "source": [
    "## Team Members: Thomas Elston"
   ]
  },
  {
   "cell_type": "markdown",
   "id": "5e6efcec",
   "metadata": {},
   "source": [
    "### Github Repo: https://github.com/ThomasElston/DSCI235Final"
   ]
  },
  {
   "cell_type": "markdown",
   "id": "5eef980c",
   "metadata": {},
   "source": [
    "In this notebook, I will sort through data of past Fortnite esports players from 2019 to determine who I think was the best player of that year was."
   ]
  },
  {
   "cell_type": "code",
   "execution_count": 319,
   "id": "a4b3a456",
   "metadata": {},
   "outputs": [],
   "source": [
    "import numpy as np\n",
    "import pandas as pd\n",
    "import matplotlib.pyplot as plt"
   ]
  },
  {
   "cell_type": "markdown",
   "id": "4eed24af",
   "metadata": {},
   "source": [
    "The data is hosted in the repo as the file was quite large, accessable in the repo to view and grabbed via the link below."
   ]
  },
  {
   "cell_type": "code",
   "execution_count": 320,
   "id": "8c1a4a68",
   "metadata": {
    "scrolled": true
   },
   "outputs": [
    {
     "data": {
      "text/html": [
       "<div>\n",
       "<style scoped>\n",
       "    .dataframe tbody tr th:only-of-type {\n",
       "        vertical-align: middle;\n",
       "    }\n",
       "\n",
       "    .dataframe tbody tr th {\n",
       "        vertical-align: top;\n",
       "    }\n",
       "\n",
       "    .dataframe thead th {\n",
       "        text-align: right;\n",
       "    }\n",
       "</style>\n",
       "<table border=\"1\" class=\"dataframe\">\n",
       "  <thead>\n",
       "    <tr style=\"text-align: right;\">\n",
       "      <th></th>\n",
       "      <th>Player</th>\n",
       "      <th>Solo score</th>\n",
       "      <th>Solo top1</th>\n",
       "      <th>Solo kd</th>\n",
       "      <th>Solo winRatio</th>\n",
       "      <th>Solo matches</th>\n",
       "      <th>Solo kills</th>\n",
       "      <th>Solo minutesPlayed</th>\n",
       "      <th>Duos score</th>\n",
       "      <th>Duos top1</th>\n",
       "      <th>...</th>\n",
       "      <th>Squads kills</th>\n",
       "      <th>Squads minutesPlayed</th>\n",
       "      <th>LTM score</th>\n",
       "      <th>LTM top1</th>\n",
       "      <th>LTM top3</th>\n",
       "      <th>LTM kd</th>\n",
       "      <th>LTM winRatio</th>\n",
       "      <th>LTM matches</th>\n",
       "      <th>LTM kills</th>\n",
       "      <th>LTM minutesPlayed</th>\n",
       "    </tr>\n",
       "  </thead>\n",
       "  <tbody>\n",
       "    <tr>\n",
       "      <th>0</th>\n",
       "      <td>Prospеring</td>\n",
       "      <td>2476763</td>\n",
       "      <td>1828</td>\n",
       "      <td>4.37</td>\n",
       "      <td>18.0</td>\n",
       "      <td>10150</td>\n",
       "      <td>36328</td>\n",
       "      <td>81389</td>\n",
       "      <td>4702684</td>\n",
       "      <td>5584</td>\n",
       "      <td>...</td>\n",
       "      <td>75787.0</td>\n",
       "      <td>117967.0</td>\n",
       "      <td>101589.0</td>\n",
       "      <td>170.0</td>\n",
       "      <td>118.0</td>\n",
       "      <td>5.78</td>\n",
       "      <td>26.8</td>\n",
       "      <td>634.0</td>\n",
       "      <td>2682.0</td>\n",
       "      <td>2865.0</td>\n",
       "    </tr>\n",
       "    <tr>\n",
       "      <th>1</th>\n",
       "      <td>BH nixxxay</td>\n",
       "      <td>439562</td>\n",
       "      <td>1694</td>\n",
       "      <td>8.71</td>\n",
       "      <td>29.1</td>\n",
       "      <td>5817</td>\n",
       "      <td>35895</td>\n",
       "      <td>12732</td>\n",
       "      <td>4065613</td>\n",
       "      <td>4141</td>\n",
       "      <td>...</td>\n",
       "      <td>117327.0</td>\n",
       "      <td>150439.0</td>\n",
       "      <td>151358.0</td>\n",
       "      <td>229.0</td>\n",
       "      <td>190.0</td>\n",
       "      <td>8.20</td>\n",
       "      <td>18.2</td>\n",
       "      <td>1259.0</td>\n",
       "      <td>8442.0</td>\n",
       "      <td>4206.0</td>\n",
       "    </tr>\n",
       "    <tr>\n",
       "      <th>2</th>\n",
       "      <td>Raпger</td>\n",
       "      <td>4519465</td>\n",
       "      <td>4582</td>\n",
       "      <td>9.60</td>\n",
       "      <td>34.0</td>\n",
       "      <td>13488</td>\n",
       "      <td>85481</td>\n",
       "      <td>122171</td>\n",
       "      <td>1137279</td>\n",
       "      <td>1390</td>\n",
       "      <td>...</td>\n",
       "      <td>76065.0</td>\n",
       "      <td>86684.0</td>\n",
       "      <td>452136.0</td>\n",
       "      <td>1180.0</td>\n",
       "      <td>818.0</td>\n",
       "      <td>11.12</td>\n",
       "      <td>32.9</td>\n",
       "      <td>3583.0</td>\n",
       "      <td>26726.0</td>\n",
       "      <td>12273.0</td>\n",
       "    </tr>\n",
       "    <tr>\n",
       "      <th>3</th>\n",
       "      <td>Idk_Pi</td>\n",
       "      <td>752869</td>\n",
       "      <td>121</td>\n",
       "      <td>0.84</td>\n",
       "      <td>3.3</td>\n",
       "      <td>3687</td>\n",
       "      <td>3005</td>\n",
       "      <td>32453</td>\n",
       "      <td>5326457</td>\n",
       "      <td>2249</td>\n",
       "      <td>...</td>\n",
       "      <td>6892.0</td>\n",
       "      <td>80016.0</td>\n",
       "      <td>1748407.0</td>\n",
       "      <td>190.0</td>\n",
       "      <td>246.0</td>\n",
       "      <td>2.33</td>\n",
       "      <td>5.4</td>\n",
       "      <td>3539.0</td>\n",
       "      <td>7787.0</td>\n",
       "      <td>33224.0</td>\n",
       "    </tr>\n",
       "    <tr>\n",
       "      <th>4</th>\n",
       "      <td>Twitch.GryphonRB</td>\n",
       "      <td>1136282</td>\n",
       "      <td>1327</td>\n",
       "      <td>6.32</td>\n",
       "      <td>30.0</td>\n",
       "      <td>4429</td>\n",
       "      <td>19591</td>\n",
       "      <td>36245</td>\n",
       "      <td>3692623</td>\n",
       "      <td>5743</td>\n",
       "      <td>...</td>\n",
       "      <td>46068.0</td>\n",
       "      <td>81424.0</td>\n",
       "      <td>556721.0</td>\n",
       "      <td>824.0</td>\n",
       "      <td>600.0</td>\n",
       "      <td>14.99</td>\n",
       "      <td>53.3</td>\n",
       "      <td>1546.0</td>\n",
       "      <td>10826.0</td>\n",
       "      <td>12019.0</td>\n",
       "    </tr>\n",
       "  </tbody>\n",
       "</table>\n",
       "<p>5 rows × 37 columns</p>\n",
       "</div>"
      ],
      "text/plain": [
       "             Player  Solo score  Solo top1  Solo kd  Solo winRatio  \\\n",
       "0        Prospеring     2476763       1828     4.37           18.0   \n",
       "1        BH nixxxay      439562       1694     8.71           29.1   \n",
       "2            Raпger     4519465       4582     9.60           34.0   \n",
       "3            Idk_Pi      752869        121     0.84            3.3   \n",
       "4  Twitch.GryphonRB     1136282       1327     6.32           30.0   \n",
       "\n",
       "   Solo matches  Solo kills  Solo minutesPlayed  Duos score  Duos top1  ...  \\\n",
       "0         10150       36328               81389     4702684       5584  ...   \n",
       "1          5817       35895               12732     4065613       4141  ...   \n",
       "2         13488       85481              122171     1137279       1390  ...   \n",
       "3          3687        3005               32453     5326457       2249  ...   \n",
       "4          4429       19591               36245     3692623       5743  ...   \n",
       "\n",
       "   Squads kills  Squads minutesPlayed  LTM score  LTM top1  LTM top3  LTM kd  \\\n",
       "0       75787.0              117967.0   101589.0     170.0     118.0    5.78   \n",
       "1      117327.0              150439.0   151358.0     229.0     190.0    8.20   \n",
       "2       76065.0               86684.0   452136.0    1180.0     818.0   11.12   \n",
       "3        6892.0               80016.0  1748407.0     190.0     246.0    2.33   \n",
       "4       46068.0               81424.0   556721.0     824.0     600.0   14.99   \n",
       "\n",
       "   LTM winRatio  LTM matches  LTM kills  LTM minutesPlayed  \n",
       "0          26.8        634.0     2682.0             2865.0  \n",
       "1          18.2       1259.0     8442.0             4206.0  \n",
       "2          32.9       3583.0    26726.0            12273.0  \n",
       "3           5.4       3539.0     7787.0            33224.0  \n",
       "4          53.3       1546.0    10826.0            12019.0  \n",
       "\n",
       "[5 rows x 37 columns]"
      ]
     },
     "execution_count": 320,
     "metadata": {},
     "output_type": "execute_result"
    }
   ],
   "source": [
    "df = pd.read_csv(\"https://raw.githubusercontent.com/ThomasElston/DSCI235Final/main/Fortnite_players_stats.csv\")\n",
    "df.head()"
   ]
  },
  {
   "cell_type": "markdown",
   "id": "fbe52312",
   "metadata": {},
   "source": [
    "Deleting unnecessary columns from the dataframe. (The LTM columns are unnecessary because they are casual game modes that do not portray a players skill.)"
   ]
  },
  {
   "cell_type": "code",
   "execution_count": 321,
   "id": "83367bff",
   "metadata": {},
   "outputs": [],
   "source": [
    "fortniteStats = df\n",
    "fortniteStats = fortniteStats.drop(columns=['Solo score', 'Duos score', 'Trios score', 'Squads score', 'LTM score', 'LTM top1', 'LTM top3', 'LTM kd', 'LTM winRatio', 'LTM matches', 'LTM kills', 'LTM minutesPlayed'])"
   ]
  },
  {
   "cell_type": "markdown",
   "id": "4b2f1810",
   "metadata": {},
   "source": [
    "### Who was the best solos player in the world at the time?"
   ]
  },
  {
   "cell_type": "code",
   "execution_count": 322,
   "id": "178e0704",
   "metadata": {},
   "outputs": [
    {
     "name": "stdout",
     "output_type": "stream",
     "text": [
      "For our purposes, the best solos player in the world would be considered the player with the most wins in the solos category overall. Which is: \n"
     ]
    },
    {
     "data": {
      "text/html": [
       "<div>\n",
       "<style scoped>\n",
       "    .dataframe tbody tr th:only-of-type {\n",
       "        vertical-align: middle;\n",
       "    }\n",
       "\n",
       "    .dataframe tbody tr th {\n",
       "        vertical-align: top;\n",
       "    }\n",
       "\n",
       "    .dataframe thead th {\n",
       "        text-align: right;\n",
       "    }\n",
       "</style>\n",
       "<table border=\"1\" class=\"dataframe\">\n",
       "  <thead>\n",
       "    <tr style=\"text-align: right;\">\n",
       "      <th></th>\n",
       "      <th>Player</th>\n",
       "      <th>Solo top1</th>\n",
       "    </tr>\n",
       "  </thead>\n",
       "  <tbody>\n",
       "    <tr>\n",
       "      <th>8</th>\n",
       "      <td>ᴮᵒˢˢン</td>\n",
       "      <td>6480</td>\n",
       "    </tr>\n",
       "    <tr>\n",
       "      <th>331</th>\n",
       "      <td>dEAABLESS</td>\n",
       "      <td>5034</td>\n",
       "    </tr>\n",
       "    <tr>\n",
       "      <th>2</th>\n",
       "      <td>Raпger</td>\n",
       "      <td>4582</td>\n",
       "    </tr>\n",
       "    <tr>\n",
       "      <th>245</th>\n",
       "      <td>give me pasta</td>\n",
       "      <td>4486</td>\n",
       "    </tr>\n",
       "    <tr>\n",
       "      <th>11</th>\n",
       "      <td>DarkAssaSSin._</td>\n",
       "      <td>4295</td>\n",
       "    </tr>\n",
       "  </tbody>\n",
       "</table>\n",
       "</div>"
      ],
      "text/plain": [
       "             Player  Solo top1\n",
       "8             ᴮᵒˢˢン       6480\n",
       "331       dEAABLESS       5034\n",
       "2            Raпger       4582\n",
       "245   give me pasta       4486\n",
       "11   DarkAssaSSin._       4295"
      ]
     },
     "execution_count": 322,
     "metadata": {},
     "output_type": "execute_result"
    }
   ],
   "source": [
    "print(\"For our purposes, the best solos player in the world would be considered the player with the most wins in the solos category overall. Which is: \")\n",
    "fortniteStats.sort_values('Solo top1', ascending = False).head(5)[['Player', 'Solo top1']]"
   ]
  },
  {
   "cell_type": "markdown",
   "id": "c551e5d5",
   "metadata": {},
   "source": [
    "### Who was the best duos player in the world at the time?"
   ]
  },
  {
   "cell_type": "code",
   "execution_count": 323,
   "id": "16d2736e",
   "metadata": {},
   "outputs": [
    {
     "name": "stdout",
     "output_type": "stream",
     "text": [
      "For our purposes, the best duos player in the world would be considered the player with the most wins in the duos category overall. Which is: \n"
     ]
    },
    {
     "data": {
      "text/html": [
       "<div>\n",
       "<style scoped>\n",
       "    .dataframe tbody tr th:only-of-type {\n",
       "        vertical-align: middle;\n",
       "    }\n",
       "\n",
       "    .dataframe tbody tr th {\n",
       "        vertical-align: top;\n",
       "    }\n",
       "\n",
       "    .dataframe thead th {\n",
       "        text-align: right;\n",
       "    }\n",
       "</style>\n",
       "<table border=\"1\" class=\"dataframe\">\n",
       "  <thead>\n",
       "    <tr style=\"text-align: right;\">\n",
       "      <th></th>\n",
       "      <th>Player</th>\n",
       "      <th>Duos top1</th>\n",
       "    </tr>\n",
       "  </thead>\n",
       "  <tbody>\n",
       "    <tr>\n",
       "      <th>543</th>\n",
       "      <td>Twitch_PuZiiyoッ</td>\n",
       "      <td>7594</td>\n",
       "    </tr>\n",
       "    <tr>\n",
       "      <th>4</th>\n",
       "      <td>Twitch.GryphonRB</td>\n",
       "      <td>5743</td>\n",
       "    </tr>\n",
       "    <tr>\n",
       "      <th>0</th>\n",
       "      <td>Prospеring</td>\n",
       "      <td>5584</td>\n",
       "    </tr>\n",
       "    <tr>\n",
       "      <th>7</th>\n",
       "      <td>NiteGamerYT 190k</td>\n",
       "      <td>5449</td>\n",
       "    </tr>\n",
       "    <tr>\n",
       "      <th>18</th>\n",
       "      <td>Scribell</td>\n",
       "      <td>4819</td>\n",
       "    </tr>\n",
       "  </tbody>\n",
       "</table>\n",
       "</div>"
      ],
      "text/plain": [
       "               Player  Duos top1\n",
       "543   Twitch_PuZiiyoッ       7594\n",
       "4    Twitch.GryphonRB       5743\n",
       "0          Prospеring       5584\n",
       "7    NiteGamerYT 190k       5449\n",
       "18           Scribell       4819"
      ]
     },
     "execution_count": 323,
     "metadata": {},
     "output_type": "execute_result"
    }
   ],
   "source": [
    "print(\"For our purposes, the best duos player in the world would be considered the player with the most wins in the duos category overall. Which is: \")\n",
    "fortniteStats.sort_values('Duos top1', ascending = False).head(5)[['Player', 'Duos top1']]"
   ]
  },
  {
   "cell_type": "markdown",
   "id": "72e72790",
   "metadata": {},
   "source": [
    "### Who was the best trios player in the world at the time?"
   ]
  },
  {
   "cell_type": "code",
   "execution_count": 324,
   "id": "af915d1d",
   "metadata": {},
   "outputs": [
    {
     "name": "stdout",
     "output_type": "stream",
     "text": [
      "For our purposes, the best trios player in the world would be considered the player with the most wins in the trios category overall. Which is: \n"
     ]
    },
    {
     "data": {
      "text/html": [
       "<div>\n",
       "<style scoped>\n",
       "    .dataframe tbody tr th:only-of-type {\n",
       "        vertical-align: middle;\n",
       "    }\n",
       "\n",
       "    .dataframe tbody tr th {\n",
       "        vertical-align: top;\n",
       "    }\n",
       "\n",
       "    .dataframe thead th {\n",
       "        text-align: right;\n",
       "    }\n",
       "</style>\n",
       "<table border=\"1\" class=\"dataframe\">\n",
       "  <thead>\n",
       "    <tr style=\"text-align: right;\">\n",
       "      <th></th>\n",
       "      <th>Player</th>\n",
       "      <th>Trios top1</th>\n",
       "    </tr>\n",
       "  </thead>\n",
       "  <tbody>\n",
       "    <tr>\n",
       "      <th>135</th>\n",
       "      <td>TSM EmadGG</td>\n",
       "      <td>915.0</td>\n",
       "    </tr>\n",
       "    <tr>\n",
       "      <th>4</th>\n",
       "      <td>Twitch.GryphonRB</td>\n",
       "      <td>900.0</td>\n",
       "    </tr>\n",
       "    <tr>\n",
       "      <th>1101</th>\n",
       "      <td>GW_Lettuce</td>\n",
       "      <td>890.0</td>\n",
       "    </tr>\n",
       "    <tr>\n",
       "      <th>645</th>\n",
       "      <td>dann</td>\n",
       "      <td>731.0</td>\n",
       "    </tr>\n",
       "    <tr>\n",
       "      <th>2</th>\n",
       "      <td>Raпger</td>\n",
       "      <td>716.0</td>\n",
       "    </tr>\n",
       "  </tbody>\n",
       "</table>\n",
       "</div>"
      ],
      "text/plain": [
       "                Player  Trios top1\n",
       "135         TSM EmadGG       915.0\n",
       "4     Twitch.GryphonRB       900.0\n",
       "1101        GW_Lettuce       890.0\n",
       "645               dann       731.0\n",
       "2               Raпger       716.0"
      ]
     },
     "execution_count": 324,
     "metadata": {},
     "output_type": "execute_result"
    }
   ],
   "source": [
    "print(\"For our purposes, the best trios player in the world would be considered the player with the most wins in the trios category overall. Which is: \")\n",
    "fortniteStats.sort_values('Trios top1', ascending = False).head(5)[['Player', 'Trios top1']]"
   ]
  },
  {
   "cell_type": "markdown",
   "id": "57b175d4",
   "metadata": {},
   "source": [
    "### Who was the best squads player in the world at the time?"
   ]
  },
  {
   "cell_type": "code",
   "execution_count": 325,
   "id": "cf5b88fd",
   "metadata": {},
   "outputs": [
    {
     "name": "stdout",
     "output_type": "stream",
     "text": [
      "For our purposes, the best squads player in the world would be considered the player with the most wins in the squads category overall. Which is: \n"
     ]
    },
    {
     "data": {
      "text/html": [
       "<div>\n",
       "<style scoped>\n",
       "    .dataframe tbody tr th:only-of-type {\n",
       "        vertical-align: middle;\n",
       "    }\n",
       "\n",
       "    .dataframe tbody tr th {\n",
       "        vertical-align: top;\n",
       "    }\n",
       "\n",
       "    .dataframe thead th {\n",
       "        text-align: right;\n",
       "    }\n",
       "</style>\n",
       "<table border=\"1\" class=\"dataframe\">\n",
       "  <thead>\n",
       "    <tr style=\"text-align: right;\">\n",
       "      <th></th>\n",
       "      <th>Player</th>\n",
       "      <th>Squads top1</th>\n",
       "    </tr>\n",
       "  </thead>\n",
       "  <tbody>\n",
       "    <tr>\n",
       "      <th>0</th>\n",
       "      <td>Prospеring</td>\n",
       "      <td>5116.0</td>\n",
       "    </tr>\n",
       "    <tr>\n",
       "      <th>1</th>\n",
       "      <td>BH nixxxay</td>\n",
       "      <td>4978.0</td>\n",
       "    </tr>\n",
       "    <tr>\n",
       "      <th>2</th>\n",
       "      <td>Raпger</td>\n",
       "      <td>4435.0</td>\n",
       "    </tr>\n",
       "    <tr>\n",
       "      <th>4</th>\n",
       "      <td>Twitch.GryphonRB</td>\n",
       "      <td>3445.0</td>\n",
       "    </tr>\n",
       "    <tr>\n",
       "      <th>1027</th>\n",
       "      <td>Ninja</td>\n",
       "      <td>2724.0</td>\n",
       "    </tr>\n",
       "  </tbody>\n",
       "</table>\n",
       "</div>"
      ],
      "text/plain": [
       "                Player  Squads top1\n",
       "0           Prospеring       5116.0\n",
       "1           BH nixxxay       4978.0\n",
       "2               Raпger       4435.0\n",
       "4     Twitch.GryphonRB       3445.0\n",
       "1027             Ninja       2724.0"
      ]
     },
     "execution_count": 325,
     "metadata": {},
     "output_type": "execute_result"
    }
   ],
   "source": [
    "print(\"For our purposes, the best squads player in the world would be considered the player with the most wins in the squads category overall. Which is: \")\n",
    "fortniteStats.sort_values('Squads top1', ascending = False).head(5)[['Player', 'Squads top1']]"
   ]
  },
  {
   "cell_type": "markdown",
   "id": "a6878703",
   "metadata": {},
   "source": [
    "### Which players have the most wins throughout all gamemodes?"
   ]
  },
  {
   "cell_type": "code",
   "execution_count": 326,
   "id": "67242dbb",
   "metadata": {},
   "outputs": [
    {
     "name": "stdout",
     "output_type": "stream",
     "text": [
      "The top 5 players with the most combined wins across all gamemodes was: \n"
     ]
    },
    {
     "data": {
      "text/html": [
       "<div>\n",
       "<style scoped>\n",
       "    .dataframe tbody tr th:only-of-type {\n",
       "        vertical-align: middle;\n",
       "    }\n",
       "\n",
       "    .dataframe tbody tr th {\n",
       "        vertical-align: top;\n",
       "    }\n",
       "\n",
       "    .dataframe thead th {\n",
       "        text-align: right;\n",
       "    }\n",
       "</style>\n",
       "<table border=\"1\" class=\"dataframe\">\n",
       "  <thead>\n",
       "    <tr style=\"text-align: right;\">\n",
       "      <th></th>\n",
       "      <th>Player</th>\n",
       "      <th>allTimeWins</th>\n",
       "    </tr>\n",
       "  </thead>\n",
       "  <tbody>\n",
       "    <tr>\n",
       "      <th>0</th>\n",
       "      <td>Prospеring</td>\n",
       "      <td>12772.0</td>\n",
       "    </tr>\n",
       "    <tr>\n",
       "      <th>4</th>\n",
       "      <td>Twitch.GryphonRB</td>\n",
       "      <td>11415.0</td>\n",
       "    </tr>\n",
       "    <tr>\n",
       "      <th>2</th>\n",
       "      <td>Raпger</td>\n",
       "      <td>11123.0</td>\n",
       "    </tr>\n",
       "    <tr>\n",
       "      <th>1</th>\n",
       "      <td>BH nixxxay</td>\n",
       "      <td>10817.0</td>\n",
       "    </tr>\n",
       "    <tr>\n",
       "      <th>543</th>\n",
       "      <td>Twitch_PuZiiyoッ</td>\n",
       "      <td>8138.0</td>\n",
       "    </tr>\n",
       "  </tbody>\n",
       "</table>\n",
       "</div>"
      ],
      "text/plain": [
       "               Player  allTimeWins\n",
       "0          Prospеring      12772.0\n",
       "4    Twitch.GryphonRB      11415.0\n",
       "2              Raпger      11123.0\n",
       "1          BH nixxxay      10817.0\n",
       "543   Twitch_PuZiiyoッ       8138.0"
      ]
     },
     "execution_count": 326,
     "metadata": {},
     "output_type": "execute_result"
    }
   ],
   "source": [
    "print(\"The top 5 players with the most combined wins across all gamemodes was: \")\n",
    "fortniteStats = fortniteStats.assign(allTimeWins=fortniteStats['Solo top1'] + fortniteStats['Duos top1'] + fortniteStats['Trios top1'] + fortniteStats['Squads top1'])\n",
    "fortniteStats.sort_values('allTimeWins', ascending = False).head(5)[['Player', 'allTimeWins']]"
   ]
  },
  {
   "cell_type": "markdown",
   "id": "2aaf9db0",
   "metadata": {},
   "source": [
    "### Which players have the most kills throughout all gamemodes?"
   ]
  },
  {
   "cell_type": "code",
   "execution_count": 327,
   "id": "c15f7ecb",
   "metadata": {},
   "outputs": [
    {
     "name": "stdout",
     "output_type": "stream",
     "text": [
      "The top 5 players with the most combined kills across all gamemodes was: \n"
     ]
    },
    {
     "data": {
      "text/html": [
       "<div>\n",
       "<style scoped>\n",
       "    .dataframe tbody tr th:only-of-type {\n",
       "        vertical-align: middle;\n",
       "    }\n",
       "\n",
       "    .dataframe tbody tr th {\n",
       "        vertical-align: top;\n",
       "    }\n",
       "\n",
       "    .dataframe thead th {\n",
       "        text-align: right;\n",
       "    }\n",
       "</style>\n",
       "<table border=\"1\" class=\"dataframe\">\n",
       "  <thead>\n",
       "    <tr style=\"text-align: right;\">\n",
       "      <th></th>\n",
       "      <th>Player</th>\n",
       "      <th>allTimeKills</th>\n",
       "    </tr>\n",
       "  </thead>\n",
       "  <tbody>\n",
       "    <tr>\n",
       "      <th>1</th>\n",
       "      <td>BH nixxxay</td>\n",
       "      <td>296689.0</td>\n",
       "    </tr>\n",
       "    <tr>\n",
       "      <th>2</th>\n",
       "      <td>Raпger</td>\n",
       "      <td>204146.0</td>\n",
       "    </tr>\n",
       "    <tr>\n",
       "      <th>6</th>\n",
       "      <td>FaZe Replays</td>\n",
       "      <td>201431.0</td>\n",
       "    </tr>\n",
       "    <tr>\n",
       "      <th>0</th>\n",
       "      <td>Prospеring</td>\n",
       "      <td>186836.0</td>\n",
       "    </tr>\n",
       "    <tr>\n",
       "      <th>254</th>\n",
       "      <td>semm1234</td>\n",
       "      <td>144703.0</td>\n",
       "    </tr>\n",
       "  </tbody>\n",
       "</table>\n",
       "</div>"
      ],
      "text/plain": [
       "           Player  allTimeKills\n",
       "1      BH nixxxay      296689.0\n",
       "2          Raпger      204146.0\n",
       "6    FaZe Replays      201431.0\n",
       "0      Prospеring      186836.0\n",
       "254      semm1234      144703.0"
      ]
     },
     "execution_count": 327,
     "metadata": {},
     "output_type": "execute_result"
    }
   ],
   "source": [
    "print(\"The top 5 players with the most combined kills across all gamemodes was: \")\n",
    "fortniteStats = fortniteStats.assign(allTimeKills=fortniteStats['Solo kills'] + fortniteStats['Duos kills'] + fortniteStats['Trios kills'] + fortniteStats['Squads kills'])\n",
    "fortniteStats.sort_values('allTimeKills', ascending = False).head(5)[['Player', 'allTimeKills']]"
   ]
  },
  {
   "cell_type": "markdown",
   "id": "a5ba7262",
   "metadata": {},
   "source": [
    "### From all 4 game modes on average who had the most kills per minute?"
   ]
  },
  {
   "cell_type": "code",
   "execution_count": 328,
   "id": "bcbaf047",
   "metadata": {},
   "outputs": [
    {
     "name": "stdout",
     "output_type": "stream",
     "text": [
      "The top 5 players with the most kills per minute was: \n"
     ]
    },
    {
     "data": {
      "text/html": [
       "<div>\n",
       "<style scoped>\n",
       "    .dataframe tbody tr th:only-of-type {\n",
       "        vertical-align: middle;\n",
       "    }\n",
       "\n",
       "    .dataframe tbody tr th {\n",
       "        vertical-align: top;\n",
       "    }\n",
       "\n",
       "    .dataframe thead th {\n",
       "        text-align: right;\n",
       "    }\n",
       "</style>\n",
       "<table border=\"1\" class=\"dataframe\">\n",
       "  <thead>\n",
       "    <tr style=\"text-align: right;\">\n",
       "      <th></th>\n",
       "      <th>Player</th>\n",
       "      <th>killsPerMin</th>\n",
       "    </tr>\n",
       "  </thead>\n",
       "  <tbody>\n",
       "    <tr>\n",
       "      <th>1027</th>\n",
       "      <td>Ninja</td>\n",
       "      <td>1.393031</td>\n",
       "    </tr>\n",
       "    <tr>\n",
       "      <th>254</th>\n",
       "      <td>semm1234</td>\n",
       "      <td>1.110878</td>\n",
       "    </tr>\n",
       "    <tr>\n",
       "      <th>1</th>\n",
       "      <td>BH nixxxay</td>\n",
       "      <td>1.048164</td>\n",
       "    </tr>\n",
       "    <tr>\n",
       "      <th>231</th>\n",
       "      <td>jmoe161 TV</td>\n",
       "      <td>0.995841</td>\n",
       "    </tr>\n",
       "    <tr>\n",
       "      <th>122</th>\n",
       "      <td>Avxry</td>\n",
       "      <td>0.859098</td>\n",
       "    </tr>\n",
       "  </tbody>\n",
       "</table>\n",
       "</div>"
      ],
      "text/plain": [
       "          Player  killsPerMin\n",
       "1027       Ninja     1.393031\n",
       "254     semm1234     1.110878\n",
       "1     BH nixxxay     1.048164\n",
       "231   jmoe161 TV     0.995841\n",
       "122        Avxry     0.859098"
      ]
     },
     "execution_count": 328,
     "metadata": {},
     "output_type": "execute_result"
    }
   ],
   "source": [
    "print(\"The top 5 players with the most kills per minute was: \")\n",
    "fortniteStats = fortniteStats.assign(totalPlayTime=fortniteStats['Solo minutesPlayed'] + fortniteStats['Duos minutesPlayed'] + fortniteStats['Trios minutesPlayed'] + fortniteStats['Squads minutesPlayed'])\n",
    "fortniteStats = fortniteStats.assign(killsPerMin=fortniteStats['allTimeKills'] / fortniteStats['totalPlayTime'])\n",
    "fortniteStats.sort_values('killsPerMin', ascending = False).head(5)[['Player', 'killsPerMin']]"
   ]
  },
  {
   "cell_type": "markdown",
   "id": "418317dc",
   "metadata": {},
   "source": [
    "### From all 4 game modes on average who had the highest average win percentage in their games?"
   ]
  },
  {
   "cell_type": "code",
   "execution_count": 329,
   "id": "a18bc022",
   "metadata": {},
   "outputs": [
    {
     "name": "stdout",
     "output_type": "stream",
     "text": [
      "The top 5 players with the highest average win percentage in their games was: \n"
     ]
    },
    {
     "data": {
      "text/html": [
       "<div>\n",
       "<style scoped>\n",
       "    .dataframe tbody tr th:only-of-type {\n",
       "        vertical-align: middle;\n",
       "    }\n",
       "\n",
       "    .dataframe tbody tr th {\n",
       "        vertical-align: top;\n",
       "    }\n",
       "\n",
       "    .dataframe thead th {\n",
       "        text-align: right;\n",
       "    }\n",
       "</style>\n",
       "<table border=\"1\" class=\"dataframe\">\n",
       "  <thead>\n",
       "    <tr style=\"text-align: right;\">\n",
       "      <th></th>\n",
       "      <th>Player</th>\n",
       "      <th>winPercentage</th>\n",
       "    </tr>\n",
       "  </thead>\n",
       "  <tbody>\n",
       "    <tr>\n",
       "      <th>4</th>\n",
       "      <td>Twitch.GryphonRB</td>\n",
       "      <td>48.825</td>\n",
       "    </tr>\n",
       "    <tr>\n",
       "      <th>50</th>\n",
       "      <td>ManuelXD -</td>\n",
       "      <td>44.675</td>\n",
       "    </tr>\n",
       "    <tr>\n",
       "      <th>543</th>\n",
       "      <td>Twitch_PuZiiyoッ</td>\n",
       "      <td>37.925</td>\n",
       "    </tr>\n",
       "    <tr>\n",
       "      <th>345</th>\n",
       "      <td>Prince Strap</td>\n",
       "      <td>37.200</td>\n",
       "    </tr>\n",
       "    <tr>\n",
       "      <th>559</th>\n",
       "      <td>Ｌ３ＮＮ</td>\n",
       "      <td>35.375</td>\n",
       "    </tr>\n",
       "  </tbody>\n",
       "</table>\n",
       "</div>"
      ],
      "text/plain": [
       "               Player  winPercentage\n",
       "4    Twitch.GryphonRB         48.825\n",
       "50         ManuelXD -         44.675\n",
       "543   Twitch_PuZiiyoッ         37.925\n",
       "345      Prince Strap         37.200\n",
       "559              Ｌ３ＮＮ         35.375"
      ]
     },
     "execution_count": 329,
     "metadata": {},
     "output_type": "execute_result"
    }
   ],
   "source": [
    "print(\"The top 5 players with the highest average win percentage in their games was: \")\n",
    "fortniteStats = fortniteStats.assign(winPercentage = (fortniteStats['Solo winRatio'] + fortniteStats['Duos winRatio'] + fortniteStats['Trios winRatio'] + fortniteStats['Squads winRatio'])/4)\n",
    "fortniteStats.sort_values('winPercentage', ascending = False).head(5)[['Player', 'winPercentage']]"
   ]
  },
  {
   "cell_type": "markdown",
   "id": "966b7f99",
   "metadata": {},
   "source": [
    "### Analysis"
   ]
  },
  {
   "cell_type": "markdown",
   "id": "149c75fe",
   "metadata": {},
   "source": [
    "From my experience playing this game and getting to know the high level players in the scene, some of these numbers actually shocked me. While names like \"Twith.GryphonRB, Prospering, and Ranger\" have been know for there kills and number of wins it actually wasn't that much of a suprise to see them at the top of the leaderboards here. What did come as a suprise was the \"Kills per Minute\" dataframe, kills per minute is not a usual metric to rank player by as that usually doesn't translate into points on a leaderboard, however, I included it as an intresting measurement to give the pro players that hadn't played as much to recieve some reconition. Seeing \"ninja\" at the top of this measurement was very intresting especially how far above second place he was placing, looking deeper into this I realized that ninja's play time was actually less than most pro players and that would have helped contributed to this. We also see ninja in the bottom of the best squads players dataframe but this I consider to be less of a suprise as this was his gamemode of choice for a long while."
   ]
  },
  {
   "cell_type": "markdown",
   "id": "17c00c8d",
   "metadata": {},
   "source": [
    "## Celebrity vs Celebrity"
   ]
  },
  {
   "cell_type": "markdown",
   "id": "fcf52d4f",
   "metadata": {},
   "source": [
    "For this next part I wanted to find hand chosen Fortnite playing celebrities and match them up to see which celebrity was the best. A player in this is classified as a celebrity if the person has over 1,000,000 followers."
   ]
  },
  {
   "cell_type": "code",
   "execution_count": 330,
   "id": "08df979b",
   "metadata": {},
   "outputs": [
    {
     "name": "stdout",
     "output_type": "stream",
     "text": [
      "The 3 celebrities I choose are listed in the dataframe below:\n"
     ]
    },
    {
     "data": {
      "text/html": [
       "<div>\n",
       "<style scoped>\n",
       "    .dataframe tbody tr th:only-of-type {\n",
       "        vertical-align: middle;\n",
       "    }\n",
       "\n",
       "    .dataframe tbody tr th {\n",
       "        vertical-align: top;\n",
       "    }\n",
       "\n",
       "    .dataframe thead th {\n",
       "        text-align: right;\n",
       "    }\n",
       "</style>\n",
       "<table border=\"1\" class=\"dataframe\">\n",
       "  <thead>\n",
       "    <tr style=\"text-align: right;\">\n",
       "      <th></th>\n",
       "      <th>Player</th>\n",
       "      <th>Solo top1</th>\n",
       "      <th>Solo kd</th>\n",
       "      <th>Solo winRatio</th>\n",
       "      <th>Solo matches</th>\n",
       "      <th>Solo kills</th>\n",
       "      <th>Solo minutesPlayed</th>\n",
       "      <th>Duos top1</th>\n",
       "      <th>Duos kd</th>\n",
       "      <th>Duos winRatio</th>\n",
       "      <th>...</th>\n",
       "      <th>Squads kd</th>\n",
       "      <th>Squads winRatio</th>\n",
       "      <th>Squads matches</th>\n",
       "      <th>Squads kills</th>\n",
       "      <th>Squads minutesPlayed</th>\n",
       "      <th>allTimeWins</th>\n",
       "      <th>allTimeKills</th>\n",
       "      <th>totalPlayTime</th>\n",
       "      <th>killsPerMin</th>\n",
       "      <th>winPercentage</th>\n",
       "    </tr>\n",
       "  </thead>\n",
       "  <tbody>\n",
       "    <tr>\n",
       "      <th>278</th>\n",
       "      <td>SypherPK</td>\n",
       "      <td>4115</td>\n",
       "      <td>7.16</td>\n",
       "      <td>28.5</td>\n",
       "      <td>14436</td>\n",
       "      <td>73948</td>\n",
       "      <td>65186</td>\n",
       "      <td>1227</td>\n",
       "      <td>6.66</td>\n",
       "      <td>28.0</td>\n",
       "      <td>...</td>\n",
       "      <td>4.20</td>\n",
       "      <td>18.2</td>\n",
       "      <td>5051.0</td>\n",
       "      <td>17360.0</td>\n",
       "      <td>32468.0</td>\n",
       "      <td>6412.0</td>\n",
       "      <td>115455.0</td>\n",
       "      <td>134865.0</td>\n",
       "      <td>0.856078</td>\n",
       "      <td>21.875</td>\n",
       "    </tr>\n",
       "    <tr>\n",
       "      <th>351</th>\n",
       "      <td>liquid bugha 우</td>\n",
       "      <td>935</td>\n",
       "      <td>2.71</td>\n",
       "      <td>7.1</td>\n",
       "      <td>13221</td>\n",
       "      <td>33335</td>\n",
       "      <td>84584</td>\n",
       "      <td>396</td>\n",
       "      <td>1.84</td>\n",
       "      <td>6.3</td>\n",
       "      <td>...</td>\n",
       "      <td>2.54</td>\n",
       "      <td>9.4</td>\n",
       "      <td>1426.0</td>\n",
       "      <td>3285.0</td>\n",
       "      <td>11640.0</td>\n",
       "      <td>1469.0</td>\n",
       "      <td>47631.0</td>\n",
       "      <td>138305.0</td>\n",
       "      <td>0.344391</td>\n",
       "      <td>6.625</td>\n",
       "    </tr>\n",
       "    <tr>\n",
       "      <th>1027</th>\n",
       "      <td>Ninja</td>\n",
       "      <td>2234</td>\n",
       "      <td>9.21</td>\n",
       "      <td>29.7</td>\n",
       "      <td>7511</td>\n",
       "      <td>48620</td>\n",
       "      <td>21730</td>\n",
       "      <td>2722</td>\n",
       "      <td>9.90</td>\n",
       "      <td>38.2</td>\n",
       "      <td>...</td>\n",
       "      <td>8.98</td>\n",
       "      <td>36.2</td>\n",
       "      <td>7522.0</td>\n",
       "      <td>43089.0</td>\n",
       "      <td>39438.0</td>\n",
       "      <td>7729.0</td>\n",
       "      <td>136134.0</td>\n",
       "      <td>97725.0</td>\n",
       "      <td>1.393031</td>\n",
       "      <td>31.250</td>\n",
       "    </tr>\n",
       "  </tbody>\n",
       "</table>\n",
       "<p>3 rows × 30 columns</p>\n",
       "</div>"
      ],
      "text/plain": [
       "              Player  Solo top1  Solo kd  Solo winRatio  Solo matches  \\\n",
       "278         SypherPK       4115     7.16           28.5         14436   \n",
       "351   liquid bugha 우        935     2.71            7.1         13221   \n",
       "1027           Ninja       2234     9.21           29.7          7511   \n",
       "\n",
       "      Solo kills  Solo minutesPlayed  Duos top1  Duos kd  Duos winRatio  ...  \\\n",
       "278        73948               65186       1227     6.66           28.0  ...   \n",
       "351        33335               84584        396     1.84            6.3  ...   \n",
       "1027       48620               21730       2722     9.90           38.2  ...   \n",
       "\n",
       "      Squads kd  Squads winRatio  Squads matches  Squads kills  \\\n",
       "278        4.20             18.2          5051.0       17360.0   \n",
       "351        2.54              9.4          1426.0        3285.0   \n",
       "1027       8.98             36.2          7522.0       43089.0   \n",
       "\n",
       "      Squads minutesPlayed  allTimeWins  allTimeKills  totalPlayTime  \\\n",
       "278                32468.0       6412.0      115455.0       134865.0   \n",
       "351                11640.0       1469.0       47631.0       138305.0   \n",
       "1027               39438.0       7729.0      136134.0        97725.0   \n",
       "\n",
       "      killsPerMin  winPercentage  \n",
       "278      0.856078         21.875  \n",
       "351      0.344391          6.625  \n",
       "1027     1.393031         31.250  \n",
       "\n",
       "[3 rows x 30 columns]"
      ]
     },
     "execution_count": 330,
     "metadata": {},
     "output_type": "execute_result"
    }
   ],
   "source": [
    "print(\"The 3 celebrities I choose are listed in the dataframe below:\")\n",
    "celeb = fortniteStats[(fortniteStats['Player'] == 'Ninja') | (fortniteStats['Player'] == 'SypherPK') | (fortniteStats['Player'] == 'liquid bugha 우')]\n",
    "celeb"
   ]
  },
  {
   "cell_type": "markdown",
   "id": "d7288c31",
   "metadata": {},
   "source": [
    "Lets see how they stack up against each other using the 5 columns we added."
   ]
  },
  {
   "cell_type": "markdown",
   "id": "09c4b7a8",
   "metadata": {},
   "source": [
    "### All Time Wins"
   ]
  },
  {
   "cell_type": "code",
   "execution_count": 331,
   "id": "65bd8852",
   "metadata": {},
   "outputs": [
    {
     "name": "stderr",
     "output_type": "stream",
     "text": [
      "/Users/thomaselston/opt/anaconda3/lib/python3.9/site-packages/IPython/core/pylabtools.py:151: UserWarning: Glyph 50864 (\\N{HANGUL SYLLABLE U}) missing from current font.\n",
      "  fig.canvas.print_figure(bytes_io, **kw)\n"
     ]
    },
    {
     "data": {
      "image/png": "[encoded data removed]",
      "text/plain": [
       "<Figure size 432x288 with 1 Axes>"
      ]
     },
     "metadata": {
      "needs_background": "light"
     },
     "output_type": "display_data"
    }
   ],
   "source": [
    "df = pd.DataFrame({'Players': celeb['Player'], 'All Time Wins': celeb['allTimeWins']})\n",
    "ax = df.plot.bar(x='Players', y='All Time Wins', rot=0)"
   ]
  },
  {
   "cell_type": "markdown",
   "id": "b3d1c2db",
   "metadata": {},
   "source": [
    "### All Time Kills"
   ]
  },
  {
   "cell_type": "code",
   "execution_count": 332,
   "id": "c844b3c9",
   "metadata": {},
   "outputs": [
    {
     "data": {
      "image/png": "[encoded data removed]",
      "text/plain": [
       "<Figure size 432x288 with 1 Axes>"
      ]
     },
     "metadata": {
      "needs_background": "light"
     },
     "output_type": "display_data"
    }
   ],
   "source": [
    "df = pd.DataFrame({'Players': celeb['Player'], 'All Time Kills': celeb['allTimeKills']})\n",
    "ax = df.plot.bar(x='Players', y='All Time Kills', rot=0)"
   ]
  },
  {
   "cell_type": "markdown",
   "id": "123a2b85",
   "metadata": {},
   "source": [
    "### Total Play Time"
   ]
  },
  {
   "cell_type": "code",
   "execution_count": 333,
   "id": "f5e86c8d",
   "metadata": {},
   "outputs": [
    {
     "data": {
      "image/png": "[encoded data removed]",
      "text/plain": [
       "<Figure size 432x288 with 1 Axes>"
      ]
     },
     "metadata": {
      "needs_background": "light"
     },
     "output_type": "display_data"
    }
   ],
   "source": [
    "df = pd.DataFrame({'Players': celeb['Player'], 'Total Play Time': celeb['totalPlayTime']})\n",
    "ax = df.plot.bar(x='Players', y='Total Play Time', rot=0)"
   ]
  },
  {
   "cell_type": "markdown",
   "id": "7f9f4589",
   "metadata": {},
   "source": [
    "### Kills Per Minute"
   ]
  },
  {
   "cell_type": "code",
   "execution_count": 334,
   "id": "686959b0",
   "metadata": {},
   "outputs": [
    {
     "data": {
      "image/png": "[encoded data removed]",
      "text/plain": [
       "<Figure size 432x288 with 1 Axes>"
      ]
     },
     "metadata": {
      "needs_background": "light"
     },
     "output_type": "display_data"
    }
   ],
   "source": [
    "df = pd.DataFrame({'Players': celeb['Player'], 'Kills per Minute': celeb['killsPerMin']})\n",
    "ax = df.plot.bar(x='Players', y='Kills per Minute', rot=0)"
   ]
  },
  {
   "cell_type": "markdown",
   "id": "e6e82878",
   "metadata": {},
   "source": [
    "### Win Percentage"
   ]
  },
  {
   "cell_type": "code",
   "execution_count": 335,
   "id": "745d4278",
   "metadata": {},
   "outputs": [
    {
     "data": {
      "image/png": "[encoded data removed]",
      "text/plain": [
       "<Figure size 432x288 with 1 Axes>"
      ]
     },
     "metadata": {
      "needs_background": "light"
     },
     "output_type": "display_data"
    }
   ],
   "source": [
    "df = pd.DataFrame({'Players': celeb['Player'], 'Win Percentage': celeb['winPercentage']})\n",
    "ax = df.plot.bar(x='Players', y='Win Percentage', rot=0)"
   ]
  },
  {
   "cell_type": "markdown",
   "id": "0ebbb04a",
   "metadata": {},
   "source": [
    "### Analysis"
   ]
  },
  {
   "cell_type": "markdown",
   "id": "579dafe7",
   "metadata": {},
   "source": [
    "Essentially what I can gather from these graphs is that in all categories here the player known as Ninja is the clear winner. With SypherPK on his tail and liquid bugha in dead last. So from the data between the 3 of them I would proclaim Ninja as the best of the celebrities here as in all graphs he was on top including the graph \"Total Play Time\" as the less the play time is actually better for this statistic. Meaning that Ninja was able to do more in a quicker period of time. It was very suprising to see liquid bugha so far from the rest of the competiton in these graphs as of 2019 when this data was taken he actually won the title of \"World's best Fortnite Player\" at the Fortnite World Cup. Despite having a lack of wins and kills I believe the data doesn't show the whole picture here as there could have been plenty of other gamemode liquid bugha could have been playing instead to achieve his skill level. SypherPK in these graphs wasn't a suprise at all as you would constantly see him playing with ninja and so them having stats so close to each other makes sense. "
   ]
  },
  {
   "cell_type": "markdown",
   "id": "790b77ac",
   "metadata": {},
   "source": [
    "## Me VS The World"
   ]
  },
  {
   "cell_type": "markdown",
   "id": "c8ac89ae",
   "metadata": {},
   "source": [
    "In this section of the anaylsis I have gathered my own personal data from the same site the original data was gathered from. With my data im going to compare my self to the top 1500 players in the world, to see how I would currently fair against the worlds best players."
   ]
  },
  {
   "cell_type": "markdown",
   "id": "fc73cd13",
   "metadata": {},
   "source": [
    "### Adding my personal stats"
   ]
  },
  {
   "cell_type": "code",
   "execution_count": 336,
   "id": "4bebf0f2",
   "metadata": {},
   "outputs": [
    {
     "data": {
      "text/html": [
       "<div>\n",
       "<style scoped>\n",
       "    .dataframe tbody tr th:only-of-type {\n",
       "        vertical-align: middle;\n",
       "    }\n",
       "\n",
       "    .dataframe tbody tr th {\n",
       "        vertical-align: top;\n",
       "    }\n",
       "\n",
       "    .dataframe thead th {\n",
       "        text-align: right;\n",
       "    }\n",
       "</style>\n",
       "<table border=\"1\" class=\"dataframe\">\n",
       "  <thead>\n",
       "    <tr style=\"text-align: right;\">\n",
       "      <th></th>\n",
       "      <th>Player</th>\n",
       "      <th>Solo top1</th>\n",
       "      <th>Solo kd</th>\n",
       "      <th>Solo winRatio</th>\n",
       "      <th>Solo matches</th>\n",
       "      <th>Solo kills</th>\n",
       "      <th>Solo minutesPlayed</th>\n",
       "      <th>Duos top1</th>\n",
       "      <th>Duos kd</th>\n",
       "      <th>Duos winRatio</th>\n",
       "      <th>...</th>\n",
       "      <th>Squads kd</th>\n",
       "      <th>Squads winRatio</th>\n",
       "      <th>Squads matches</th>\n",
       "      <th>Squads kills</th>\n",
       "      <th>Squads minutesPlayed</th>\n",
       "      <th>allTimeWins</th>\n",
       "      <th>allTimeKills</th>\n",
       "      <th>totalPlayTime</th>\n",
       "      <th>killsPerMin</th>\n",
       "      <th>winPercentage</th>\n",
       "    </tr>\n",
       "  </thead>\n",
       "  <tbody>\n",
       "    <tr>\n",
       "      <th>0</th>\n",
       "      <td>Beefman101</td>\n",
       "      <td>310</td>\n",
       "      <td>1.87</td>\n",
       "      <td>2.84</td>\n",
       "      <td>4613</td>\n",
       "      <td>9798</td>\n",
       "      <td>18170</td>\n",
       "      <td>165</td>\n",
       "      <td>1.82</td>\n",
       "      <td>4.86</td>\n",
       "      <td>...</td>\n",
       "      <td>2.03</td>\n",
       "      <td>4.62</td>\n",
       "      <td>1492</td>\n",
       "      <td>2891</td>\n",
       "      <td>5166</td>\n",
       "      <td>576</td>\n",
       "      <td>27831</td>\n",
       "      <td>37920</td>\n",
       "      <td>0.73394</td>\n",
       "      <td>5.655</td>\n",
       "    </tr>\n",
       "  </tbody>\n",
       "</table>\n",
       "<p>1 rows × 30 columns</p>\n",
       "</div>"
      ],
      "text/plain": [
       "       Player  Solo top1  Solo kd  Solo winRatio  Solo matches  Solo kills  \\\n",
       "0  Beefman101        310     1.87           2.84          4613        9798   \n",
       "\n",
       "   Solo minutesPlayed  Duos top1  Duos kd  Duos winRatio  ...  Squads kd  \\\n",
       "0               18170        165     1.82           4.86  ...       2.03   \n",
       "\n",
       "   Squads winRatio  Squads matches  Squads kills  Squads minutesPlayed  \\\n",
       "0             4.62            1492          2891                  5166   \n",
       "\n",
       "   allTimeWins  allTimeKills  totalPlayTime  killsPerMin  winPercentage  \n",
       "0          576         27831          37920      0.73394          5.655  \n",
       "\n",
       "[1 rows x 30 columns]"
      ]
     },
     "execution_count": 336,
     "metadata": {},
     "output_type": "execute_result"
    }
   ],
   "source": [
    "dict = {'Player':['Beefman101'],\n",
    "        'Solo top1':[310],\n",
    "        'Solo kd':[1.87],\n",
    "        'Solo winRatio':[2.84],\n",
    "        'Solo matches':[4613],\n",
    "        'Solo kills':[9798],\n",
    "        'Solo minutesPlayed':[18170],\n",
    "        'Duos top1':[165],\n",
    "        'Duos kd':[1.82],\n",
    "        'Duos winRatio':[4.86],\n",
    "        'Duos matches':[3393],\n",
    "        'Duos kills':[7469],\n",
    "        'Duos minutesPlayed':[13363],\n",
    "        'Trios top1':[32],\n",
    "        'Trios kd':[2.67],\n",
    "        'Trios winRatio':[10.3],\n",
    "        'Trios matches':[310],\n",
    "        'Trios kills':[741],\n",
    "        'Trios minutesPlayed':[1221],\n",
    "        'Squads top1':[69],\n",
    "        'Squads kd':[2.03],\n",
    "        'Squads winRatio':[4.62],\n",
    "        'Squads matches':[1492],\n",
    "        'Squads kills':[2891],\n",
    "        'Squads minutesPlayed':[5166],\n",
    "        'allTimeWins':[576],\n",
    "        'allTimeKills':[27831],\n",
    "        'totalPlayTime':[37920],\n",
    "        'killsPerMin':[0.733940],\n",
    "        'winPercentage':[5.655]\n",
    "       }\n",
    "\n",
    "me = pd.DataFrame(dict)\n",
    "me"
   ]
  },
  {
   "cell_type": "markdown",
   "id": "7d42aaab",
   "metadata": {},
   "source": [
    "### Mean all data from the 1500 players"
   ]
  },
  {
   "cell_type": "code",
   "execution_count": 337,
   "id": "a978acf7",
   "metadata": {},
   "outputs": [
    {
     "data": {
      "text/html": [
       "<div>\n",
       "<style scoped>\n",
       "    .dataframe tbody tr th:only-of-type {\n",
       "        vertical-align: middle;\n",
       "    }\n",
       "\n",
       "    .dataframe tbody tr th {\n",
       "        vertical-align: top;\n",
       "    }\n",
       "\n",
       "    .dataframe thead th {\n",
       "        text-align: right;\n",
       "    }\n",
       "</style>\n",
       "<table border=\"1\" class=\"dataframe\">\n",
       "  <thead>\n",
       "    <tr style=\"text-align: right;\">\n",
       "      <th></th>\n",
       "      <th>Solo top1</th>\n",
       "      <th>Solo kd</th>\n",
       "      <th>Solo winRatio</th>\n",
       "      <th>Solo matches</th>\n",
       "      <th>Solo kills</th>\n",
       "      <th>Solo minutesPlayed</th>\n",
       "      <th>Duos top1</th>\n",
       "      <th>Duos kd</th>\n",
       "      <th>Duos winRatio</th>\n",
       "      <th>Duos matches</th>\n",
       "      <th>...</th>\n",
       "      <th>Squads kd</th>\n",
       "      <th>Squads winRatio</th>\n",
       "      <th>Squads matches</th>\n",
       "      <th>Squads kills</th>\n",
       "      <th>Squads minutesPlayed</th>\n",
       "      <th>allTimeWins</th>\n",
       "      <th>allTimeKills</th>\n",
       "      <th>totalPlayTime</th>\n",
       "      <th>killsPerMin</th>\n",
       "      <th>winPercentage</th>\n",
       "    </tr>\n",
       "  </thead>\n",
       "  <tbody>\n",
       "    <tr>\n",
       "      <th>0</th>\n",
       "      <td>328.909408</td>\n",
       "      <td>1.8163</td>\n",
       "      <td>4.853937</td>\n",
       "      <td>6911.060627</td>\n",
       "      <td>11781.843206</td>\n",
       "      <td>43517.135889</td>\n",
       "      <td>836.602787</td>\n",
       "      <td>2.483686</td>\n",
       "      <td>11.185226</td>\n",
       "      <td>7903.974913</td>\n",
       "      <td>...</td>\n",
       "      <td>2.05569</td>\n",
       "      <td>7.046234</td>\n",
       "      <td>6050.590656</td>\n",
       "      <td>11401.596932</td>\n",
       "      <td>40738.556485</td>\n",
       "      <td>1705.982991</td>\n",
       "      <td>41179.600992</td>\n",
       "      <td>150185.754075</td>\n",
       "      <td>0.283013</td>\n",
       "      <td>8.36747</td>\n",
       "    </tr>\n",
       "  </tbody>\n",
       "</table>\n",
       "<p>1 rows × 29 columns</p>\n",
       "</div>"
      ],
      "text/plain": [
       "    Solo top1  Solo kd  Solo winRatio  Solo matches    Solo kills  \\\n",
       "0  328.909408   1.8163       4.853937   6911.060627  11781.843206   \n",
       "\n",
       "   Solo minutesPlayed   Duos top1   Duos kd  Duos winRatio  Duos matches  ...  \\\n",
       "0        43517.135889  836.602787  2.483686      11.185226   7903.974913  ...   \n",
       "\n",
       "   Squads kd  Squads winRatio  Squads matches  Squads kills  \\\n",
       "0    2.05569         7.046234     6050.590656  11401.596932   \n",
       "\n",
       "   Squads minutesPlayed  allTimeWins  allTimeKills  totalPlayTime  \\\n",
       "0          40738.556485  1705.982991  41179.600992  150185.754075   \n",
       "\n",
       "   killsPerMin  winPercentage  \n",
       "0     0.283013        8.36747  \n",
       "\n",
       "[1 rows x 29 columns]"
      ]
     },
     "execution_count": 337,
     "metadata": {},
     "output_type": "execute_result"
    }
   ],
   "source": [
    "averageStats = fortniteStats.loc[:, fortniteStats.columns != 'Player'].mean()\n",
    "averageStats = pd.DataFrame(averageStats)\n",
    "averageStats = averageStats.transpose()\n",
    "me = pd.concat([averageStats, me], ignore_index = True)\n",
    "me.reset_index()\n",
    "me.loc[0,'Player'] = 'Pro Average'\n",
    "me.loc[1,'Player'] = 'Me'\n",
    "averageStats"
   ]
  },
  {
   "cell_type": "markdown",
   "id": "ec355b0b",
   "metadata": {},
   "source": [
    "### All Time Wins"
   ]
  },
  {
   "cell_type": "code",
   "execution_count": 338,
   "id": "d3962ee2",
   "metadata": {},
   "outputs": [
    {
     "data": {
      "image/png": "[encoded data removed]",
      "text/plain": [
       "<Figure size 432x288 with 1 Axes>"
      ]
     },
     "metadata": {
      "needs_background": "light"
     },
     "output_type": "display_data"
    }
   ],
   "source": [
    "df = pd.DataFrame({'Players': me['Player'], 'All Time Wins': me['allTimeWins']})\n",
    "ax = df.plot.bar(x='Players', y='All Time Wins', rot=0)"
   ]
  },
  {
   "cell_type": "markdown",
   "id": "dd591f84",
   "metadata": {},
   "source": [
    "### All Time Kills"
   ]
  },
  {
   "cell_type": "code",
   "execution_count": 339,
   "id": "98ab4ea7",
   "metadata": {},
   "outputs": [
    {
     "data": {
      "image/png": "[encoded data removed]",
      "text/plain": [
       "<Figure size 432x288 with 1 Axes>"
      ]
     },
     "metadata": {
      "needs_background": "light"
     },
     "output_type": "display_data"
    }
   ],
   "source": [
    "df = pd.DataFrame({'Players': me['Player'], 'All Time Kills': me['allTimeKills']})\n",
    "ax = df.plot.bar(x='Players', y='All Time Kills', rot=0)"
   ]
  },
  {
   "cell_type": "markdown",
   "id": "c0b31c24",
   "metadata": {},
   "source": [
    "### Total Play Time"
   ]
  },
  {
   "cell_type": "code",
   "execution_count": 340,
   "id": "ddd94a20",
   "metadata": {},
   "outputs": [
    {
     "data": {
      "image/png": "[encoded data removed]",
      "text/plain": [
       "<Figure size 432x288 with 1 Axes>"
      ]
     },
     "metadata": {
      "needs_background": "light"
     },
     "output_type": "display_data"
    }
   ],
   "source": [
    "df = pd.DataFrame({'Players': me['Player'], 'Total Play Time': me['totalPlayTime']})\n",
    "ax = df.plot.bar(x='Players', y='Total Play Time', rot=0)"
   ]
  },
  {
   "cell_type": "markdown",
   "id": "fbe7b726",
   "metadata": {},
   "source": [
    "### Kills Per Minute"
   ]
  },
  {
   "cell_type": "code",
   "execution_count": 341,
   "id": "37f8f12d",
   "metadata": {},
   "outputs": [
    {
     "data": {
      "image/png": "[encoded data removed]",
      "text/plain": [
       "<Figure size 432x288 with 1 Axes>"
      ]
     },
     "metadata": {
      "needs_background": "light"
     },
     "output_type": "display_data"
    }
   ],
   "source": [
    "df = pd.DataFrame({'Players': me['Player'], 'Kills per Minute': me['killsPerMin']})\n",
    "ax = df.plot.bar(x='Players', y='Kills per Minute', rot=0)"
   ]
  },
  {
   "cell_type": "markdown",
   "id": "de8b9b81",
   "metadata": {},
   "source": [
    "### Win Percentage"
   ]
  },
  {
   "cell_type": "code",
   "execution_count": 342,
   "id": "1cf859ef",
   "metadata": {},
   "outputs": [
    {
     "data": {
      "image/png": "[encoded data removed]",
      "text/plain": [
       "<Figure size 432x288 with 1 Axes>"
      ]
     },
     "metadata": {
      "needs_background": "light"
     },
     "output_type": "display_data"
    }
   ],
   "source": [
    "df = pd.DataFrame({'Players': me['Player'], 'Win Percentage': me['winPercentage']})\n",
    "ax = df.plot.bar(x='Players', y='Win Percentage', rot=0)"
   ]
  },
  {
   "cell_type": "markdown",
   "id": "257199d6",
   "metadata": {},
   "source": [
    "### Analysis"
   ]
  },
  {
   "cell_type": "markdown",
   "id": "63b41b4a",
   "metadata": {},
   "source": [
    "I was genuinely very suprised when I saw the graphs of this data. It allowed me to see that I actually wasn't that far off from the pro scene and in some regaurds I was even beating them. The first graph shows that the average number of wins of a pro was around 1700 while I was stuck way down in the 500-600 range. After that the 2nd graph shows us the average all time kills which suprisingly I wasn't that far behind with the pros at about 41,000 to my 28,000 kills. The 3rd graph was the most suprising to me as it was the graph that tracked Total Play Time (in minutes). I had around 38,000 minutes of play time here with the pro's almost crushing me by 4x with 150,000 minutes of play time. This statistic was the most suprising because it showed me that even though I had 4 times less experience in the game as these pros I was putting up numbers in some regaurds that were a lot better that the pros when they were in my position. The 4th graph shows the Kills Per Minute which would be the play time in minutes divided by the total number of kills. For the pros in this situation they had an average kpm of 0.28 while I scored a kpm of 0.73 which is almost 3 times the average of the pros. This was probably the most defining stat of mine against the pros and one that I'll definately gloat to my friends. The the last graph was about the average Win Percentage which unfortunatley im not doing so well with only having a sub 6 percent win rate whilst the pros have a comfortable 8 percent win rate. These graphs showed me alot about how I relate to the pro players in my scene and how much I still need to improve in order to compete and the highest level."
   ]
  },
  {
   "cell_type": "markdown",
   "id": "e11add7f",
   "metadata": {},
   "source": [
    "# Conclusion"
   ]
  },
  {
   "cell_type": "markdown",
   "id": "1435e04f",
   "metadata": {},
   "source": [
    "This project has shown me alot about the pro Fortnite seen back in the day that I just wouldn't have know without looking into the data like this. While I learned a good deal about some of my favorite pro players to watch like Ninja. I was also able to compare myself with my own data to all of these pro players, which ended up being my favorite part of this analysis. I was very suprised with the results of the analysis of myself as back in the day I wouldn't have believed you if you told me I was actually comparable to some of these players. If I were to do this project again I think I would spend more time collecting multiple datasets and trying to merge them together before starting as that way I might be able to find different correlations in the data other than determining them based off of wins and kills.\n",
    "    With that being said I think I have my answer to this project. With my choice of the best player of the year going to \"Ninja\". A player I thought had 0 chance of winning this, I choose this based of the kills per minute dataframe as well as the fact that his total play time was significantly less than his competition."
   ]
  }
 ],
 "metadata": {
  "kernelspec": {
   "display_name": "Python 3 (ipykernel)",
   "language": "python",
   "name": "python3"
  },
  "language_info": {
   "codemirror_mode": {
    "name": "ipython",
    "version": 3
   },
   "file_extension": ".py",
   "mimetype": "text/x-python",
   "name": "python",
   "nbconvert_exporter": "python",
   "pygments_lexer": "ipython3",
   "version": "3.9.12"
  }
 },
 "nbformat": 4,
 "nbformat_minor": 5
}
